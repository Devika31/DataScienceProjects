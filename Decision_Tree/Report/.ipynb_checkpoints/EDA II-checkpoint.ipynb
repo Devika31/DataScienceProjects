{
 "cells": [
  {
   "cell_type": "code",
   "execution_count": 5,
   "metadata": {},
   "outputs": [],
   "source": [
    "import pandas as pd \n",
    "raw_train  = pd.read_csv(\"../Assignment1 Dataset/Datasets/q3/train.csv\")\n",
    "raw_test = pd.read_csv(\"../Assignment1 Dataset/Datasets/q3/test.csv\")\n",
    "raw_test_labels = pd.read_csv(\"../Assignment1 Dataset/Datasets/q3/test_labels.csv\")"
   ]
  },
  {
   "cell_type": "code",
   "execution_count": 6,
   "metadata": {},
   "outputs": [
    {
     "data": {
      "text/plain": [
       "(1000, 81)"
      ]
     },
     "execution_count": 6,
     "metadata": {},
     "output_type": "execute_result"
    }
   ],
   "source": [
    "# find number of duplicate rows \n",
    "raw_train.drop_duplicates( keep  = False , inplace = True)\n",
    "raw_train.shape\n",
    "\n",
    "# no duplicate rows found "
   ]
  },
  {
   "cell_type": "code",
   "execution_count": null,
   "metadata": {},
   "outputs": [],
   "source": [
    "# find columns will more missing values \n",
    "columns_subset = raw_train.columns[raw_train.isnull().mean()<0.8]\n",
    "raw_train = raw_train[columns_subset]\n",
    "# these columns will be used as they have less or little missing values"
   ]
  },
  {
   "cell_type": "code",
   "execution_count": null,
   "metadata": {},
   "outputs": [],
   "source": [
    "# find columns with low variance\n",
    "raw_train.var(axis = 0 ).sort_values()<0.9"
   ]
  },
  {
   "cell_type": "code",
   "execution_count": null,
   "metadata": {},
   "outputs": [],
   "source": [
    "# checking the data type of low variance columns \n",
    "raw_train[[\n",
    "'KitchenAbvGr'  ,   \n",
    "'BsmtHalfBath'  ,    \n",
    "'HalfBath'      ,  \n",
    "'BsmtFullBath'  , \n",
    "'FullBath'      ,\n",
    "'Fireplaces'    ,\n",
    "'GarageCars'    ,\n",
    "'BedroomAbvGr'   ]].info()\n",
    "\n",
    "# these categorical columns with order in them. We will use label encoding to encode them\n"
   ]
  },
  {
   "cell_type": "code",
   "execution_count": null,
   "metadata": {},
   "outputs": [],
   "source": [
    "# fill na values with mode  - cat \n",
    "\n",
    "# numeric missing values - imputed with mean \n",
    "imputed_train = raw_train._get_numeric_data().fillna(raw_train.mean())"
   ]
  },
  {
   "cell_type": "code",
   "execution_count": null,
   "metadata": {},
   "outputs": [],
   "source": [
    "cat_columns = list(set(raw_train.columns)  - set(raw_train._get_numeric_data().columns)) "
   ]
  },
  {
   "cell_type": "code",
   "execution_count": null,
   "metadata": {},
   "outputs": [],
   "source": [
    "train_cat = raw_train[['GarageCond',\n",
    " 'CentralAir',\n",
    " 'Utilities',\n",
    " 'BsmtExposure',\n",
    " 'RoofMatl',\n",
    " 'LandContour',\n",
    " 'BsmtCond',\n",
    " 'GarageFinish',\n",
    " 'Functional',\n",
    " 'SaleCondition',\n",
    " 'BsmtQual',\n",
    " 'FireplaceQu',\n",
    " 'ExterCond',\n",
    " 'Heating',\n",
    " 'RoofStyle',\n",
    " 'LandSlope',\n",
    " 'LotShape',\n",
    " 'BsmtFinType1',\n",
    " 'LotConfig',\n",
    " 'Exterior2nd',\n",
    " 'BldgType',\n",
    " 'Condition1',\n",
    " 'HouseStyle',\n",
    " 'ExterQual',\n",
    " 'KitchenQual',\n",
    " 'SaleType',\n",
    " 'Foundation',\n",
    " 'PavedDrive',\n",
    " 'GarageType',\n",
    " 'Neighborhood',\n",
    " 'Street',\n",
    " 'MasVnrType',\n",
    " 'Exterior1st',\n",
    " 'HeatingQC',\n",
    " 'GarageQual',\n",
    " 'Condition2',\n",
    " 'BsmtFinType2',\n",
    " 'MSZoning',\n",
    " 'Electrical']]"
   ]
  },
  {
   "cell_type": "code",
   "execution_count": null,
   "metadata": {},
   "outputs": [],
   "source": [
    "train_cat.isnull().sum().sort_values(ascending = False)[:15] # impute the missing categorical data with highest frequency data "
   ]
  },
  {
   "cell_type": "code",
   "execution_count": null,
   "metadata": {},
   "outputs": [],
   "source": [
    "# here FireplaceQu has 46% missing values, we will define the unknown category as new class\n",
    "# for the other columns we will impute it with the most frequent value in the column \n",
    " \n",
    "cols = ['GarageQual'   ,\n",
    "'GarageFinish' ,\n",
    "'GarageType'   ,\n",
    "'BsmtFinType2' ,\n",
    "'BsmtExposure' ,\n",
    "'BsmtFinType1' ,\n",
    "'BsmtCond'     ,\n",
    "'BsmtQual'     ,\n",
    "'MasVnrType'   ,\n",
    "'Electrical'   , \n",
    "'GarageCond'   ]\n",
    "\n",
    "raw_train[cols]=raw_train[cols].fillna(raw_train.mode().iloc[0])\n"
   ]
  },
  {
   "cell_type": "code",
   "execution_count": null,
   "metadata": {},
   "outputs": [],
   "source": [
    "raw_train.isnull().sum().sort_values(ascending = False)[:15] "
   ]
  },
  {
   "cell_type": "code",
   "execution_count": null,
   "metadata": {},
   "outputs": [],
   "source": [
    "raw_train['FireplaceQu'] = raw_train['FireplaceQu'].fillna('missing')"
   ]
  },
  {
   "cell_type": "code",
   "execution_count": null,
   "metadata": {},
   "outputs": [],
   "source": [
    "raw_train.isnull().sum().sort_values(ascending = False)[:15] "
   ]
  },
  {
   "cell_type": "code",
   "execution_count": null,
   "metadata": {},
   "outputs": [],
   "source": [
    "raw_train._get_numeric_data().fillna(raw_train._get_numeric_data().mean()).shape"
   ]
  },
  {
   "cell_type": "code",
   "execution_count": null,
   "metadata": {},
   "outputs": [],
   "source": [
    "numeric_train  = raw_train._get_numeric_data().fillna(raw_train._get_numeric_data().mean())\n",
    "cat_train = raw_train[['GarageCond',\n",
    " 'CentralAir',\n",
    " 'Utilities',\n",
    " 'BsmtExposure',\n",
    " 'RoofMatl',\n",
    " 'LandContour',\n",
    " 'BsmtCond',\n",
    " 'GarageFinish',\n",
    " 'Functional',\n",
    " 'SaleCondition',\n",
    " 'BsmtQual',\n",
    " 'FireplaceQu',\n",
    " 'ExterCond',\n",
    " 'Heating',\n",
    " 'RoofStyle',\n",
    " 'LandSlope',\n",
    " 'LotShape',\n",
    " 'BsmtFinType1',\n",
    " 'LotConfig',\n",
    " 'Exterior2nd',\n",
    " 'BldgType',\n",
    " 'Condition1',\n",
    " 'HouseStyle',\n",
    " 'ExterQual',\n",
    " 'KitchenQual',\n",
    " 'SaleType',\n",
    " 'Foundation',\n",
    " 'PavedDrive',\n",
    " 'GarageType',\n",
    " 'Neighborhood',\n",
    " 'Street',\n",
    " 'MasVnrType',\n",
    " 'Exterior1st',\n",
    " 'HeatingQC',\n",
    " 'GarageQual',\n",
    " 'Condition2',\n",
    " 'BsmtFinType2',\n",
    " 'MSZoning',\n",
    " 'Electrical']]"
   ]
  },
  {
   "cell_type": "code",
   "execution_count": null,
   "metadata": {},
   "outputs": [],
   "source": [
    "cat_train.shape , numeric_train.shape"
   ]
  },
  {
   "cell_type": "code",
   "execution_count": null,
   "metadata": {},
   "outputs": [],
   "source": [
    "39+38\n",
    "train_dataset = "
   ]
  },
  {
   "cell_type": "code",
   "execution_count": null,
   "metadata": {},
   "outputs": [],
   "source": [
    "dataset = pd.concat([ numeric_train , cat_train.reindex(numeric_train.index)] , axis = 1)"
   ]
  },
  {
   "cell_type": "code",
   "execution_count": null,
   "metadata": {},
   "outputs": [],
   "source": [
    "#drop id column \n",
    "# labebl encoding \n",
    "# one hot encoding \n"
   ]
  },
  {
   "cell_type": "code",
   "execution_count": 2,
   "metadata": {},
   "outputs": [],
   "source": [
    "def get_categorical_columns(dataframe): \n",
    "    cat_columns = list(set(dataframe.columns)  - set(dataframe._get_numeric_data().columns)) \n",
    "    return dataframe[cat_columns ]"
   ]
  },
  {
   "cell_type": "code",
   "execution_count": 22,
   "metadata": {},
   "outputs": [],
   "source": [
    "def feature_processing(raw_train):\n",
    "    \n",
    "    # drop id column \n",
    "    raw_train.drop(['Id'] , axis =1  , inplace= True )\n",
    "    \n",
    "    # filter out columns with missing values more than 80%\n",
    "    columns_subset = raw_train.columns[raw_train.isnull().mean()<0.8]\n",
    "    raw_train = raw_train[columns_subset]\n",
    "    \n",
    "    # process cateogorical data \n",
    "    raw_train['FireplaceQu'] = raw_train['FireplaceQu'].fillna('missing')\n",
    "    cols = ['GarageQual'   ,\n",
    "            'GarageFinish' ,\n",
    "            'GarageType'   ,\n",
    "            'BsmtFinType2' ,\n",
    "            'BsmtExposure' ,\n",
    "            'BsmtFinType1' ,\n",
    "            'BsmtCond'     ,\n",
    "            'BsmtQual'     ,\n",
    "            'MasVnrType'   ,\n",
    "            'Electrical'   , \n",
    "            'GarageCond'   ]\n",
    "\n",
    "    raw_train[cols]=raw_train[cols].fillna(raw_train.mode().iloc[0])\n",
    "    # process numeric data \n",
    "    numeric_train = raw_train._get_numeric_data().fillna(raw_train._get_numeric_data().mean())\n",
    "    cat_train  = get_categorical_columns(raw_train)\n",
    "    # combine th data \n",
    "    dataset = pd.concat([ numeric_train , cat_train.reindex(numeric_train.index)] , axis = 1)\n",
    "    print(dataset.isnull().shape)\n",
    "    return dataset\n",
    "\n",
    "    "
   ]
  },
  {
   "cell_type": "code",
   "execution_count": 11,
   "metadata": {},
   "outputs": [
    {
     "name": "stderr",
     "output_type": "stream",
     "text": [
      "C:\\Users\\sudha\\Anaconda3\\lib\\site-packages\\ipykernel_launcher.py:7: SettingWithCopyWarning: \n",
      "A value is trying to be set on a copy of a slice from a DataFrame.\n",
      "Try using .loc[row_indexer,col_indexer] = value instead\n",
      "\n",
      "See the caveats in the documentation: http://pandas.pydata.org/pandas-docs/stable/indexing.html#indexing-view-versus-copy\n",
      "  import sys\n"
     ]
    },
    {
     "name": "stdout",
     "output_type": "stream",
     "text": [
      "(1000, 77)\n"
     ]
    }
   ],
   "source": [
    "train_dataset  = feature_processing(raw_train)"
   ]
  },
  {
   "cell_type": "code",
   "execution_count": 33,
   "metadata": {},
   "outputs": [],
   "source": [
    "# feature engineering \n",
    "\n",
    "\n",
    "#implement label encoding \n",
    "cols_to_labelencode  = [\n",
    "'KitchenAbvGr'  ,   \n",
    "'BsmtHalfBath'  ,    \n",
    "'HalfBath'      ,  \n",
    "'BsmtFullBath'  , \n",
    "'FullBath'      ,\n",
    "'Fireplaces'    ,\n",
    "'GarageCars'    ,\n",
    "'BedroomAbvGr'   ]\n",
    "\n",
    "for column in cols_to_labelencode:\n",
    "    train_dataset[column] = train_dataset[column].astype('category').cat.codes\n",
    "    "
   ]
  },
  {
   "cell_type": "code",
   "execution_count": 36,
   "metadata": {},
   "outputs": [
    {
     "name": "stdout",
     "output_type": "stream",
     "text": [
      "<class 'pandas.core.frame.DataFrame'>\n",
      "Int64Index: 1000 entries, 0 to 999\n",
      "Data columns (total 76 columns):\n",
      "MSSubClass       1000 non-null int64\n",
      "LotFrontage      1000 non-null float64\n",
      "LotArea          1000 non-null int64\n",
      "OverallQual      1000 non-null int64\n",
      "OverallCond      1000 non-null int64\n",
      "YearBuilt        1000 non-null int64\n",
      "YearRemodAdd     1000 non-null int64\n",
      "MasVnrArea       1000 non-null float64\n",
      "BsmtFinSF1       1000 non-null int64\n",
      "BsmtFinSF2       1000 non-null int64\n",
      "BsmtUnfSF        1000 non-null int64\n",
      "TotalBsmtSF      1000 non-null int64\n",
      "1stFlrSF         1000 non-null int64\n",
      "2ndFlrSF         1000 non-null int64\n",
      "LowQualFinSF     1000 non-null int64\n",
      "GrLivArea        1000 non-null int64\n",
      "BsmtFullBath     1000 non-null int8\n",
      "BsmtHalfBath     1000 non-null int8\n",
      "FullBath         1000 non-null int8\n",
      "HalfBath         1000 non-null int8\n",
      "BedroomAbvGr     1000 non-null int8\n",
      "KitchenAbvGr     1000 non-null int8\n",
      "TotRmsAbvGrd     1000 non-null int64\n",
      "Fireplaces       1000 non-null int8\n",
      "GarageYrBlt      1000 non-null float64\n",
      "GarageCars       1000 non-null int8\n",
      "GarageArea       1000 non-null int64\n",
      "WoodDeckSF       1000 non-null int64\n",
      "OpenPorchSF      1000 non-null int64\n",
      "EnclosedPorch    1000 non-null int64\n",
      "3SsnPorch        1000 non-null int64\n",
      "ScreenPorch      1000 non-null int64\n",
      "PoolArea         1000 non-null int64\n",
      "MiscVal          1000 non-null int64\n",
      "MoSold           1000 non-null int64\n",
      "YrSold           1000 non-null int64\n",
      "SalePrice        1000 non-null int64\n",
      "HouseStyle       1000 non-null object\n",
      "Exterior2nd      1000 non-null object\n",
      "Utilities        1000 non-null object\n",
      "CentralAir       1000 non-null object\n",
      "RoofStyle        1000 non-null object\n",
      "KitchenQual      1000 non-null object\n",
      "GarageQual       1000 non-null object\n",
      "BsmtExposure     1000 non-null object\n",
      "BsmtQual         1000 non-null object\n",
      "GarageCond       1000 non-null object\n",
      "GarageType       1000 non-null object\n",
      "MSZoning         1000 non-null object\n",
      "Foundation       1000 non-null object\n",
      "Functional       1000 non-null object\n",
      "RoofMatl         1000 non-null object\n",
      "Neighborhood     1000 non-null object\n",
      "ExterCond        1000 non-null object\n",
      "GarageFinish     1000 non-null object\n",
      "ExterQual        1000 non-null object\n",
      "LotConfig        1000 non-null object\n",
      "BldgType         1000 non-null object\n",
      "PavedDrive       1000 non-null object\n",
      "LotShape         1000 non-null object\n",
      "FireplaceQu      1000 non-null object\n",
      "Heating          1000 non-null object\n",
      "BsmtCond         1000 non-null object\n",
      "SaleCondition    1000 non-null object\n",
      "MasVnrType       1000 non-null object\n",
      "LandSlope        1000 non-null object\n",
      "Condition2       1000 non-null object\n",
      "Street           1000 non-null object\n",
      "Exterior1st      1000 non-null object\n",
      "LandContour      1000 non-null object\n",
      "BsmtFinType2     1000 non-null object\n",
      "BsmtFinType1     1000 non-null object\n",
      "HeatingQC        1000 non-null object\n",
      "Electrical       1000 non-null object\n",
      "Condition1       1000 non-null object\n",
      "SaleType         1000 non-null object\n",
      "dtypes: float64(3), int64(26), int8(8), object(39)\n",
      "memory usage: 586.9+ KB\n"
     ]
    }
   ],
   "source": [
    "train_dataset.info()"
   ]
  },
  {
   "cell_type": "code",
   "execution_count": null,
   "metadata": {},
   "outputs": [],
   "source": []
  }
 ],
 "metadata": {
  "kernelspec": {
   "display_name": "Python 3",
   "language": "python",
   "name": "python3"
  }
 },
 "nbformat": 4,
 "nbformat_minor": 2
}
