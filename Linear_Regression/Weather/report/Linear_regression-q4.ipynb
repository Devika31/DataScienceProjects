{
 "cells": [
  {
   "cell_type": "code",
   "execution_count": 99,
   "metadata": {
    "collapsed": true
   },
   "outputs": [],
   "source": [
    "import pandas as pd \n",
    "import numpy as np \n",
    "import matplotlib.pyplot as plt\n",
    "%matplotlib inline\n",
    "import seaborn as sns "
   ]
  },
  {
   "cell_type": "code",
   "execution_count": 22,
   "metadata": {},
   "outputs": [
    {
     "data": {
      "text/html": [
       "<div>\n",
       "<style>\n",
       "    .dataframe thead tr:only-child th {\n",
       "        text-align: right;\n",
       "    }\n",
       "\n",
       "    .dataframe thead th {\n",
       "        text-align: left;\n",
       "    }\n",
       "\n",
       "    .dataframe tbody tr th {\n",
       "        vertical-align: top;\n",
       "    }\n",
       "</style>\n",
       "<table border=\"1\" class=\"dataframe\">\n",
       "  <thead>\n",
       "    <tr style=\"text-align: right;\">\n",
       "      <th></th>\n",
       "      <th>Formatted Date</th>\n",
       "      <th>Summary</th>\n",
       "      <th>Precip Type</th>\n",
       "      <th>Temperature (C)</th>\n",
       "      <th>Apparent Temperature (C)</th>\n",
       "      <th>Humidity</th>\n",
       "      <th>Wind Speed (km/h)</th>\n",
       "      <th>Wind Bearing (degrees)</th>\n",
       "      <th>Visibility (km)</th>\n",
       "      <th>Pressure (millibars)</th>\n",
       "      <th>Daily Summary</th>\n",
       "    </tr>\n",
       "  </thead>\n",
       "  <tbody>\n",
       "    <tr>\n",
       "      <th>0</th>\n",
       "      <td>2006-04-01 00:00:00.000 +0200</td>\n",
       "      <td>Partly Cloudy</td>\n",
       "      <td>rain</td>\n",
       "      <td>9.472222</td>\n",
       "      <td>7.388889</td>\n",
       "      <td>0.89</td>\n",
       "      <td>14.1197</td>\n",
       "      <td>251</td>\n",
       "      <td>15.8263</td>\n",
       "      <td>1015.13</td>\n",
       "      <td>Partly cloudy throughout the day.</td>\n",
       "    </tr>\n",
       "    <tr>\n",
       "      <th>1</th>\n",
       "      <td>2006-04-01 01:00:00.000 +0200</td>\n",
       "      <td>Partly Cloudy</td>\n",
       "      <td>rain</td>\n",
       "      <td>9.355556</td>\n",
       "      <td>7.227778</td>\n",
       "      <td>0.86</td>\n",
       "      <td>14.2646</td>\n",
       "      <td>259</td>\n",
       "      <td>15.8263</td>\n",
       "      <td>1015.63</td>\n",
       "      <td>Partly cloudy throughout the day.</td>\n",
       "    </tr>\n",
       "    <tr>\n",
       "      <th>2</th>\n",
       "      <td>2006-04-01 02:00:00.000 +0200</td>\n",
       "      <td>Mostly Cloudy</td>\n",
       "      <td>rain</td>\n",
       "      <td>9.377778</td>\n",
       "      <td>9.377778</td>\n",
       "      <td>0.89</td>\n",
       "      <td>3.9284</td>\n",
       "      <td>204</td>\n",
       "      <td>14.9569</td>\n",
       "      <td>1015.94</td>\n",
       "      <td>Partly cloudy throughout the day.</td>\n",
       "    </tr>\n",
       "    <tr>\n",
       "      <th>3</th>\n",
       "      <td>2006-04-01 03:00:00.000 +0200</td>\n",
       "      <td>Partly Cloudy</td>\n",
       "      <td>rain</td>\n",
       "      <td>8.288889</td>\n",
       "      <td>5.944444</td>\n",
       "      <td>0.83</td>\n",
       "      <td>14.1036</td>\n",
       "      <td>269</td>\n",
       "      <td>15.8263</td>\n",
       "      <td>1016.41</td>\n",
       "      <td>Partly cloudy throughout the day.</td>\n",
       "    </tr>\n",
       "    <tr>\n",
       "      <th>4</th>\n",
       "      <td>2006-04-01 04:00:00.000 +0200</td>\n",
       "      <td>Mostly Cloudy</td>\n",
       "      <td>rain</td>\n",
       "      <td>8.755556</td>\n",
       "      <td>6.977778</td>\n",
       "      <td>0.83</td>\n",
       "      <td>11.0446</td>\n",
       "      <td>259</td>\n",
       "      <td>15.8263</td>\n",
       "      <td>1016.51</td>\n",
       "      <td>Partly cloudy throughout the day.</td>\n",
       "    </tr>\n",
       "  </tbody>\n",
       "</table>\n",
       "</div>"
      ],
      "text/plain": [
       "                  Formatted Date        Summary Precip Type  Temperature (C)  \\\n",
       "0  2006-04-01 00:00:00.000 +0200  Partly Cloudy        rain         9.472222   \n",
       "1  2006-04-01 01:00:00.000 +0200  Partly Cloudy        rain         9.355556   \n",
       "2  2006-04-01 02:00:00.000 +0200  Mostly Cloudy        rain         9.377778   \n",
       "3  2006-04-01 03:00:00.000 +0200  Partly Cloudy        rain         8.288889   \n",
       "4  2006-04-01 04:00:00.000 +0200  Mostly Cloudy        rain         8.755556   \n",
       "\n",
       "   Apparent Temperature (C)  Humidity  Wind Speed (km/h)  \\\n",
       "0                  7.388889      0.89            14.1197   \n",
       "1                  7.227778      0.86            14.2646   \n",
       "2                  9.377778      0.89             3.9284   \n",
       "3                  5.944444      0.83            14.1036   \n",
       "4                  6.977778      0.83            11.0446   \n",
       "\n",
       "   Wind Bearing (degrees)  Visibility (km)  Pressure (millibars)  \\\n",
       "0                     251          15.8263               1015.13   \n",
       "1                     259          15.8263               1015.63   \n",
       "2                     204          14.9569               1015.94   \n",
       "3                     269          15.8263               1016.41   \n",
       "4                     259          15.8263               1016.51   \n",
       "\n",
       "                       Daily Summary  \n",
       "0  Partly cloudy throughout the day.  \n",
       "1  Partly cloudy throughout the day.  \n",
       "2  Partly cloudy throughout the day.  \n",
       "3  Partly cloudy throughout the day.  \n",
       "4  Partly cloudy throughout the day.  "
      ]
     },
     "execution_count": 22,
     "metadata": {},
     "output_type": "execute_result"
    }
   ],
   "source": [
    "data = pd.read_csv('../weather.csv'   )\n",
    "data.head()"
   ]
  },
  {
   "cell_type": "code",
   "execution_count": 23,
   "metadata": {
    "collapsed": true
   },
   "outputs": [],
   "source": [
    "data.columns = ['Formatted_Date', 'Summary', 'Precip_Type', 'Temperature',\n",
    "       'Apparent_Temperature', 'Humidity', 'Win_Speed',\n",
    "       'Wind_Bearing', 'Visibility', 'Pressure',\n",
    "       'Daily_Summary']"
   ]
  },
  {
   "cell_type": "code",
   "execution_count": 24,
   "metadata": {},
   "outputs": [
    {
     "data": {
      "text/plain": [
       "(2, 26, 214)"
      ]
     },
     "execution_count": 24,
     "metadata": {},
     "output_type": "execute_result"
    }
   ],
   "source": [
    "data.Precip_Type.nunique(),data.Summary.nunique(),data.Daily_Summary.nunique()\n",
    "# summary variables have more than 5 unique categories. Hence removing them from the model building "
   ]
  },
  {
   "cell_type": "markdown",
   "metadata": {},
   "source": [
    "# EDA "
   ]
  },
  {
   "cell_type": "code",
   "execution_count": 89,
   "metadata": {},
   "outputs": [
    {
     "data": {
      "text/html": [
       "<div>\n",
       "<style>\n",
       "    .dataframe thead tr:only-child th {\n",
       "        text-align: right;\n",
       "    }\n",
       "\n",
       "    .dataframe thead th {\n",
       "        text-align: left;\n",
       "    }\n",
       "\n",
       "    .dataframe tbody tr th {\n",
       "        vertical-align: top;\n",
       "    }\n",
       "</style>\n",
       "<table border=\"1\" class=\"dataframe\">\n",
       "  <thead>\n",
       "    <tr style=\"text-align: right;\">\n",
       "      <th></th>\n",
       "      <th>Temperature</th>\n",
       "      <th>Apparent_Temperature</th>\n",
       "      <th>Humidity</th>\n",
       "      <th>Win_Speed</th>\n",
       "      <th>Wind_Bearing</th>\n",
       "      <th>Visibility</th>\n",
       "      <th>Pressure</th>\n",
       "    </tr>\n",
       "  </thead>\n",
       "  <tbody>\n",
       "    <tr>\n",
       "      <th>count</th>\n",
       "      <td>77268.000000</td>\n",
       "      <td>77268.000000</td>\n",
       "      <td>77268.000000</td>\n",
       "      <td>77268.000000</td>\n",
       "      <td>77268.000000</td>\n",
       "      <td>77268.000000</td>\n",
       "      <td>77268.000000</td>\n",
       "    </tr>\n",
       "    <tr>\n",
       "      <th>mean</th>\n",
       "      <td>11.929638</td>\n",
       "      <td>10.848588</td>\n",
       "      <td>0.734417</td>\n",
       "      <td>10.803935</td>\n",
       "      <td>187.735725</td>\n",
       "      <td>10.350499</td>\n",
       "      <td>1003.216115</td>\n",
       "    </tr>\n",
       "    <tr>\n",
       "      <th>std</th>\n",
       "      <td>9.567429</td>\n",
       "      <td>10.720101</td>\n",
       "      <td>0.195432</td>\n",
       "      <td>6.896537</td>\n",
       "      <td>107.330348</td>\n",
       "      <td>4.189660</td>\n",
       "      <td>117.093492</td>\n",
       "    </tr>\n",
       "    <tr>\n",
       "      <th>min</th>\n",
       "      <td>-21.822222</td>\n",
       "      <td>-27.716667</td>\n",
       "      <td>0.000000</td>\n",
       "      <td>0.000000</td>\n",
       "      <td>0.000000</td>\n",
       "      <td>0.000000</td>\n",
       "      <td>0.000000</td>\n",
       "    </tr>\n",
       "    <tr>\n",
       "      <th>25%</th>\n",
       "      <td>4.555556</td>\n",
       "      <td>2.272222</td>\n",
       "      <td>0.600000</td>\n",
       "      <td>5.828200</td>\n",
       "      <td>117.000000</td>\n",
       "      <td>8.339800</td>\n",
       "      <td>1011.907500</td>\n",
       "    </tr>\n",
       "    <tr>\n",
       "      <th>50%</th>\n",
       "      <td>11.988889</td>\n",
       "      <td>11.988889</td>\n",
       "      <td>0.780000</td>\n",
       "      <td>9.965900</td>\n",
       "      <td>180.000000</td>\n",
       "      <td>10.046400</td>\n",
       "      <td>1016.470000</td>\n",
       "    </tr>\n",
       "    <tr>\n",
       "      <th>75%</th>\n",
       "      <td>18.844444</td>\n",
       "      <td>18.844444</td>\n",
       "      <td>0.890000</td>\n",
       "      <td>14.135800</td>\n",
       "      <td>290.000000</td>\n",
       "      <td>14.812000</td>\n",
       "      <td>1021.080000</td>\n",
       "    </tr>\n",
       "    <tr>\n",
       "      <th>max</th>\n",
       "      <td>39.905556</td>\n",
       "      <td>38.416667</td>\n",
       "      <td>1.000000</td>\n",
       "      <td>63.852600</td>\n",
       "      <td>359.000000</td>\n",
       "      <td>16.100000</td>\n",
       "      <td>1046.380000</td>\n",
       "    </tr>\n",
       "  </tbody>\n",
       "</table>\n",
       "</div>"
      ],
      "text/plain": [
       "        Temperature  Apparent_Temperature      Humidity     Win_Speed  \\\n",
       "count  77268.000000          77268.000000  77268.000000  77268.000000   \n",
       "mean      11.929638             10.848588      0.734417     10.803935   \n",
       "std        9.567429             10.720101      0.195432      6.896537   \n",
       "min      -21.822222            -27.716667      0.000000      0.000000   \n",
       "25%        4.555556              2.272222      0.600000      5.828200   \n",
       "50%       11.988889             11.988889      0.780000      9.965900   \n",
       "75%       18.844444             18.844444      0.890000     14.135800   \n",
       "max       39.905556             38.416667      1.000000     63.852600   \n",
       "\n",
       "       Wind_Bearing    Visibility      Pressure  \n",
       "count  77268.000000  77268.000000  77268.000000  \n",
       "mean     187.735725     10.350499   1003.216115  \n",
       "std      107.330348      4.189660    117.093492  \n",
       "min        0.000000      0.000000      0.000000  \n",
       "25%      117.000000      8.339800   1011.907500  \n",
       "50%      180.000000     10.046400   1016.470000  \n",
       "75%      290.000000     14.812000   1021.080000  \n",
       "max      359.000000     16.100000   1046.380000  "
      ]
     },
     "execution_count": 89,
     "metadata": {},
     "output_type": "execute_result"
    }
   ],
   "source": [
    "data.describe()"
   ]
  },
  {
   "cell_type": "code",
   "execution_count": 90,
   "metadata": {},
   "outputs": [
    {
     "name": "stdout",
     "output_type": "stream",
     "text": [
      "<class 'pandas.core.frame.DataFrame'>\n",
      "Int64Index: 77268 entries, 0 to 77284\n",
      "Data columns (total 11 columns):\n",
      "Formatted_Date          77268 non-null object\n",
      "Summary                 77268 non-null object\n",
      "Precip_Type             76864 non-null object\n",
      "Temperature             77268 non-null float64\n",
      "Apparent_Temperature    77268 non-null float64\n",
      "Humidity                77268 non-null float64\n",
      "Win_Speed               77268 non-null float64\n",
      "Wind_Bearing            77268 non-null int64\n",
      "Visibility              77268 non-null float64\n",
      "Pressure                77268 non-null float64\n",
      "Daily_Summary           77268 non-null object\n",
      "dtypes: float64(6), int64(1), object(4)\n",
      "memory usage: 9.6+ MB\n"
     ]
    }
   ],
   "source": [
    "data.info()"
   ]
  },
  {
   "cell_type": "code",
   "execution_count": 91,
   "metadata": {},
   "outputs": [
    {
     "data": {
      "text/plain": [
       "Temperature             1.000000\n",
       "Apparent_Temperature    0.992648\n",
       "Humidity               -0.631968\n",
       "Win_Speed               0.006377\n",
       "Wind_Bearing            0.028694\n",
       "Visibility              0.393078\n",
       "Pressure               -0.008353\n",
       "Name: Temperature, dtype: float64"
      ]
     },
     "execution_count": 91,
     "metadata": {},
     "output_type": "execute_result"
    }
   ],
   "source": [
    "# correlation of variables with target \n",
    "data.corr()['Temperature']"
   ]
  },
  {
   "cell_type": "code",
   "execution_count": 92,
   "metadata": {},
   "outputs": [
    {
     "data": {
      "text/html": [
       "<div>\n",
       "<style>\n",
       "    .dataframe thead tr:only-child th {\n",
       "        text-align: right;\n",
       "    }\n",
       "\n",
       "    .dataframe thead th {\n",
       "        text-align: left;\n",
       "    }\n",
       "\n",
       "    .dataframe tbody tr th {\n",
       "        vertical-align: top;\n",
       "    }\n",
       "</style>\n",
       "<table border=\"1\" class=\"dataframe\">\n",
       "  <thead>\n",
       "    <tr style=\"text-align: right;\">\n",
       "      <th></th>\n",
       "      <th>Temperature</th>\n",
       "      <th>Apparent_Temperature</th>\n",
       "      <th>Humidity</th>\n",
       "      <th>Win_Speed</th>\n",
       "      <th>Wind_Bearing</th>\n",
       "      <th>Visibility</th>\n",
       "    </tr>\n",
       "  </thead>\n",
       "  <tbody>\n",
       "    <tr>\n",
       "      <th>Temperature</th>\n",
       "      <td>1.000000</td>\n",
       "      <td>0.992648</td>\n",
       "      <td>-0.631968</td>\n",
       "      <td>0.006377</td>\n",
       "      <td>0.028694</td>\n",
       "      <td>0.393078</td>\n",
       "    </tr>\n",
       "    <tr>\n",
       "      <th>Apparent_Temperature</th>\n",
       "      <td>0.992648</td>\n",
       "      <td>1.000000</td>\n",
       "      <td>-0.602390</td>\n",
       "      <td>-0.059436</td>\n",
       "      <td>0.027572</td>\n",
       "      <td>0.381863</td>\n",
       "    </tr>\n",
       "    <tr>\n",
       "      <th>Humidity</th>\n",
       "      <td>-0.631968</td>\n",
       "      <td>-0.602390</td>\n",
       "      <td>1.000000</td>\n",
       "      <td>-0.222299</td>\n",
       "      <td>0.001625</td>\n",
       "      <td>-0.370666</td>\n",
       "    </tr>\n",
       "    <tr>\n",
       "      <th>Win_Speed</th>\n",
       "      <td>0.006377</td>\n",
       "      <td>-0.059436</td>\n",
       "      <td>-0.222299</td>\n",
       "      <td>1.000000</td>\n",
       "      <td>0.104332</td>\n",
       "      <td>0.100159</td>\n",
       "    </tr>\n",
       "    <tr>\n",
       "      <th>Wind_Bearing</th>\n",
       "      <td>0.028694</td>\n",
       "      <td>0.027572</td>\n",
       "      <td>0.001625</td>\n",
       "      <td>0.104332</td>\n",
       "      <td>1.000000</td>\n",
       "      <td>0.048952</td>\n",
       "    </tr>\n",
       "    <tr>\n",
       "      <th>Visibility</th>\n",
       "      <td>0.393078</td>\n",
       "      <td>0.381863</td>\n",
       "      <td>-0.370666</td>\n",
       "      <td>0.100159</td>\n",
       "      <td>0.048952</td>\n",
       "      <td>1.000000</td>\n",
       "    </tr>\n",
       "  </tbody>\n",
       "</table>\n",
       "</div>"
      ],
      "text/plain": [
       "                      Temperature  Apparent_Temperature  Humidity  Win_Speed  \\\n",
       "Temperature              1.000000              0.992648 -0.631968   0.006377   \n",
       "Apparent_Temperature     0.992648              1.000000 -0.602390  -0.059436   \n",
       "Humidity                -0.631968             -0.602390  1.000000  -0.222299   \n",
       "Win_Speed                0.006377             -0.059436 -0.222299   1.000000   \n",
       "Wind_Bearing             0.028694              0.027572  0.001625   0.104332   \n",
       "Visibility               0.393078              0.381863 -0.370666   0.100159   \n",
       "\n",
       "                      Wind_Bearing  Visibility  \n",
       "Temperature               0.028694    0.393078  \n",
       "Apparent_Temperature      0.027572    0.381863  \n",
       "Humidity                  0.001625   -0.370666  \n",
       "Win_Speed                 0.104332    0.100159  \n",
       "Wind_Bearing              1.000000    0.048952  \n",
       "Visibility                0.048952    1.000000  "
      ]
     },
     "execution_count": 92,
     "metadata": {},
     "output_type": "execute_result"
    }
   ],
   "source": [
    "# is there a correlation among variables excluding target\n",
    "correlations=data.corr()\n",
    "attrs = correlations.iloc[:-1,:-1]\n",
    "attrs"
   ]
  },
  {
   "cell_type": "code",
   "execution_count": 93,
   "metadata": {},
   "outputs": [
    {
     "name": "stderr",
     "output_type": "stream",
     "text": [
      "C:\\Users\\sudha\\Anaconda2\\lib\\site-packages\\ipykernel_launcher.py:11: DeprecationWarning: \n",
      ".ix is deprecated. Please use\n",
      ".loc for label based indexing or\n",
      ".iloc for positional indexing\n",
      "\n",
      "See the documentation here:\n",
      "http://pandas.pydata.org/pandas-docs/stable/indexing.html#ix-indexer-is-deprecated\n",
      "  # This is added back by InteractiveShellApp.init_path()\n"
     ]
    },
    {
     "data": {
      "text/html": [
       "<div>\n",
       "<style>\n",
       "    .dataframe thead tr:only-child th {\n",
       "        text-align: right;\n",
       "    }\n",
       "\n",
       "    .dataframe thead th {\n",
       "        text-align: left;\n",
       "    }\n",
       "\n",
       "    .dataframe tbody tr th {\n",
       "        vertical-align: top;\n",
       "    }\n",
       "</style>\n",
       "<table border=\"1\" class=\"dataframe\">\n",
       "  <thead>\n",
       "    <tr style=\"text-align: right;\">\n",
       "      <th></th>\n",
       "      <th>Attribute Pair</th>\n",
       "      <th>Correlation</th>\n",
       "    </tr>\n",
       "  </thead>\n",
       "  <tbody>\n",
       "    <tr>\n",
       "      <th>2</th>\n",
       "      <td>(Apparent_Temperature, Temperature)</td>\n",
       "      <td>0.992648</td>\n",
       "    </tr>\n",
       "    <tr>\n",
       "      <th>0</th>\n",
       "      <td>(Humidity, Temperature)</td>\n",
       "      <td>-0.631968</td>\n",
       "    </tr>\n",
       "    <tr>\n",
       "      <th>1</th>\n",
       "      <td>(Apparent_Temperature, Humidity)</td>\n",
       "      <td>-0.602390</td>\n",
       "    </tr>\n",
       "  </tbody>\n",
       "</table>\n",
       "</div>"
      ],
      "text/plain": [
       "                        Attribute Pair  Correlation\n",
       "2  (Apparent_Temperature, Temperature)     0.992648\n",
       "0              (Humidity, Temperature)    -0.631968\n",
       "1     (Apparent_Temperature, Humidity)    -0.602390"
      ]
     },
     "execution_count": 93,
     "metadata": {},
     "output_type": "execute_result"
    }
   ],
   "source": [
    "# check for multicollinearity\n",
    "threshold = 0.5\n",
    "important_corrs = (attrs[abs(attrs) > threshold][attrs != 1.0]) \\\n",
    "    .unstack().dropna().to_dict()\n",
    "\n",
    "unique_important_corrs = pd.DataFrame(\n",
    "    list(set([(tuple(sorted(key)), important_corrs[key]) \\\n",
    "    for key in important_corrs])), \n",
    "        columns=['Attribute Pair', 'Correlation'])\n",
    "\n",
    "    # sorted by absolute value\n",
    "unique_important_corrs = unique_important_corrs.ix[\n",
    "    abs(unique_important_corrs['Correlation']).argsort()[::-1]]\n",
    "\n",
    "unique_important_corrs"
   ]
  },
  {
   "cell_type": "code",
   "execution_count": 100,
   "metadata": {},
   "outputs": [
    {
     "data": {
      "text/plain": [
       "<matplotlib.text.Text at 0x13abe0f0>"
      ]
     },
     "execution_count": 100,
     "metadata": {},
     "output_type": "execute_result"
    },
    {
     "data": {
      "image/png": "[encoded data removed]",
      "text/plain": [
       "<matplotlib.figure.Figure at 0x13454b70>"
      ]
     },
     "metadata": {},
     "output_type": "display_data"
    }
   ],
   "source": [
    "# check impact of x's on y \n",
    "sns.distplot(data.Temperature)\n",
    "plt.title(\"Distribution of target variable\")\n",
    "plt.ylabel(\"Number of occurence\")\n",
    "plt.xlabel(\"Temperature\")\n"
   ]
  },
  {
   "cell_type": "code",
   "execution_count": 101,
   "metadata": {},
   "outputs": [
    {
     "data": {
      "text/plain": [
       "<matplotlib.axes._subplots.AxesSubplot at 0x13a35160>"
      ]
     },
     "execution_count": 101,
     "metadata": {},
     "output_type": "execute_result"
    },
    {
     "data": {
      "image/png": "[encoded data removed]",
      "text/plain": [
       "<matplotlib.figure.Figure at 0x13e0e630>"
      ]
     },
     "metadata": {},
     "output_type": "display_data"
    }
   ],
   "source": [
    "sns.boxplot(\"Temperature\", data = data)"
   ]
  },
  {
   "cell_type": "markdown",
   "metadata": {},
   "source": [
    "# data preprocessing "
   ]
  },
  {
   "cell_type": "code",
   "execution_count": 25,
   "metadata": {},
   "outputs": [
    {
     "name": "stderr",
     "output_type": "stream",
     "text": [
      "C:\\Users\\sudha\\Anaconda2\\lib\\site-packages\\ipykernel_launcher.py:16: SettingWithCopyWarning: \n",
      "A value is trying to be set on a copy of a slice from a DataFrame.\n",
      "Try using .loc[row_indexer,col_indexer] = value instead\n",
      "\n",
      "See the caveats in the documentation: http://pandas.pydata.org/pandas-docs/stable/indexing.html#indexing-view-versus-copy\n",
      "  app.launch_new_instance()\n"
     ]
    },
    {
     "data": {
      "text/plain": [
       "array(['rain', 'snow'], dtype=object)"
      ]
     },
     "execution_count": 25,
     "metadata": {},
     "output_type": "execute_result"
    }
   ],
   "source": [
    "# drop columns that are not required \n",
    "# drop duplicates\n",
    "data.drop_duplicates(keep = 'first', inplace= True )\n",
    "# drop multicorrelated var\n",
    "columns_top_drop = ['Formatted_Date', 'Apparent_Temperature' , 'Daily_Summary', 'Summary']\n",
    "# excluding these columns during selection \n",
    "X = data[[ 'Precip_Type','Humidity', 'Win_Speed', 'Wind_Bearing', 'Visibility', 'Pressure']]\n",
    "y = data['Temperature']\n",
    "\n",
    "\n",
    "# impute missing values\n",
    "X['Precip_Type'] = X['Precip_Type'].fillna(X['Precip_Type'].value_counts().index[0])\n",
    "\n",
    "# scale numeric values\n",
    "\n",
    "# one hot encoding - exclude categorical variable "
   ]
  },
  {
   "cell_type": "code",
   "execution_count": 27,
   "metadata": {},
   "outputs": [
    {
     "name": "stdout",
     "output_type": "stream",
     "text": [
      "Index([u'Humidity', u'Win_Speed', u'Wind_Bearing', u'Visibility', u'Pressure'], dtype='object')\n"
     ]
    },
    {
     "name": "stderr",
     "output_type": "stream",
     "text": [
      "C:\\Users\\sudha\\Anaconda2\\lib\\site-packages\\ipykernel_launcher.py:5: SettingWithCopyWarning: \n",
      "A value is trying to be set on a copy of a slice from a DataFrame.\n",
      "Try using .loc[row_indexer,col_indexer] = value instead\n",
      "\n",
      "See the caveats in the documentation: http://pandas.pydata.org/pandas-docs/stable/indexing.html#indexing-view-versus-copy\n",
      "  \"\"\"\n",
      "C:\\Users\\sudha\\Anaconda2\\lib\\site-packages\\pandas\\core\\indexing.py:517: SettingWithCopyWarning: \n",
      "A value is trying to be set on a copy of a slice from a DataFrame.\n",
      "Try using .loc[row_indexer,col_indexer] = value instead\n",
      "\n",
      "See the caveats in the documentation: http://pandas.pydata.org/pandas-docs/stable/indexing.html#indexing-view-versus-copy\n",
      "  self.obj[item] = s\n"
     ]
    }
   ],
   "source": [
    "from sklearn.preprocessing import StandardScaler\n",
    "num_cols = X.columns[X.dtypes.apply(lambda c: np.issubdtype(c, np.number))]  # df._get_numeric_data().columns\n",
    "print(num_cols)\n",
    "scaler = StandardScaler()\n",
    "X[num_cols] = scaler.fit_transform(X[num_cols])"
   ]
  },
  {
   "cell_type": "code",
   "execution_count": 39,
   "metadata": {},
   "outputs": [
    {
     "data": {
      "text/html": [
       "<div>\n",
       "<style>\n",
       "    .dataframe thead tr:only-child th {\n",
       "        text-align: right;\n",
       "    }\n",
       "\n",
       "    .dataframe thead th {\n",
       "        text-align: left;\n",
       "    }\n",
       "\n",
       "    .dataframe tbody tr th {\n",
       "        vertical-align: top;\n",
       "    }\n",
       "</style>\n",
       "<table border=\"1\" class=\"dataframe\">\n",
       "  <thead>\n",
       "    <tr style=\"text-align: right;\">\n",
       "      <th></th>\n",
       "      <th>Precip_Type</th>\n",
       "      <th>Humidity</th>\n",
       "      <th>Win_Speed</th>\n",
       "      <th>Wind_Bearing</th>\n",
       "      <th>Visibility</th>\n",
       "      <th>Pressure</th>\n",
       "    </tr>\n",
       "  </thead>\n",
       "  <tbody>\n",
       "    <tr>\n",
       "      <th>0</th>\n",
       "      <td>rain</td>\n",
       "      <td>0.796103</td>\n",
       "      <td>0.480790</td>\n",
       "      <td>0.589439</td>\n",
       "      <td>1.306988</td>\n",
       "      <td>0.101747</td>\n",
       "    </tr>\n",
       "    <tr>\n",
       "      <th>1</th>\n",
       "      <td>rain</td>\n",
       "      <td>0.642596</td>\n",
       "      <td>0.501801</td>\n",
       "      <td>0.663976</td>\n",
       "      <td>1.306988</td>\n",
       "      <td>0.106018</td>\n",
       "    </tr>\n",
       "    <tr>\n",
       "      <th>2</th>\n",
       "      <td>rain</td>\n",
       "      <td>0.796103</td>\n",
       "      <td>-0.996961</td>\n",
       "      <td>0.151536</td>\n",
       "      <td>1.099476</td>\n",
       "      <td>0.108665</td>\n",
       "    </tr>\n",
       "    <tr>\n",
       "      <th>3</th>\n",
       "      <td>rain</td>\n",
       "      <td>0.489089</td>\n",
       "      <td>0.478456</td>\n",
       "      <td>0.757147</td>\n",
       "      <td>1.306988</td>\n",
       "      <td>0.112679</td>\n",
       "    </tr>\n",
       "    <tr>\n",
       "      <th>4</th>\n",
       "      <td>rain</td>\n",
       "      <td>0.489089</td>\n",
       "      <td>0.034897</td>\n",
       "      <td>0.663976</td>\n",
       "      <td>1.306988</td>\n",
       "      <td>0.113533</td>\n",
       "    </tr>\n",
       "  </tbody>\n",
       "</table>\n",
       "</div>"
      ],
      "text/plain": [
       "  Precip_Type  Humidity  Win_Speed  Wind_Bearing  Visibility  Pressure\n",
       "0        rain  0.796103   0.480790      0.589439    1.306988  0.101747\n",
       "1        rain  0.642596   0.501801      0.663976    1.306988  0.106018\n",
       "2        rain  0.796103  -0.996961      0.151536    1.099476  0.108665\n",
       "3        rain  0.489089   0.478456      0.757147    1.306988  0.112679\n",
       "4        rain  0.489089   0.034897      0.663976    1.306988  0.113533"
      ]
     },
     "execution_count": 39,
     "metadata": {},
     "output_type": "execute_result"
    }
   ],
   "source": [
    "X.head()"
   ]
  },
  {
   "cell_type": "code",
   "execution_count": 47,
   "metadata": {},
   "outputs": [
    {
     "name": "stderr",
     "output_type": "stream",
     "text": [
      "C:\\Users\\sudha\\Anaconda2\\lib\\site-packages\\ipykernel_launcher.py:2: SettingWithCopyWarning: \n",
      "A value is trying to be set on a copy of a slice from a DataFrame.\n",
      "Try using .loc[row_indexer,col_indexer] = value instead\n",
      "\n",
      "See the caveats in the documentation: http://pandas.pydata.org/pandas-docs/stable/indexing.html#indexing-view-versus-copy\n",
      "  \n"
     ]
    }
   ],
   "source": [
    "# one hot encoded precip_type var \n",
    "X['Precip_Type'] = X['Precip_Type'].apply(lambda x: 1 if x =='rain' else 0 )"
   ]
  },
  {
   "cell_type": "code",
   "execution_count": 48,
   "metadata": {
    "collapsed": true
   },
   "outputs": [],
   "source": [
    "# split data in train and test \n",
    "from sklearn.model_selection import train_test_split\n",
    "X_train, X_test, y_train, y_test  = train_test_split(X , y ,test_size=0.30, random_state=42 )"
   ]
  },
  {
   "cell_type": "code",
   "execution_count": 53,
   "metadata": {},
   "outputs": [],
   "source": [
    "def compute_cost(X, y, theta):\n",
    "    '''\n",
    "    Compute cost for linear regression\n",
    "    '''\n",
    "\n",
    "    m = y.size\n",
    "\n",
    "    predictions = X.dot(theta)\n",
    "\n",
    "    sq_errors = (predictions - y)\n",
    "\n",
    "    current_cost_j = (1.0 / (2 * m)) * sq_errors.T.dot(sq_errors)\n",
    "\n",
    "    return current_cost_j, np.mean(np.square(sq_errors))\n",
    "\n",
    "\n",
    "def gradient_descent(X, y, theta, alpha, num_iters):\n",
    "    '''\n",
    "    gradient descent to learn theta\n",
    "    '''\n",
    "    m = y.size\n",
    "    cost_past_val = zeros(shape=(num_iters, 1))\n",
    "\n",
    "    for i in range(num_iters):\n",
    "\n",
    "        predictions = X.dot(theta)\n",
    "\n",
    "        theta_size = theta.size\n",
    "\n",
    "        for n in range(theta_size):\n",
    "            temp = X[:, n]\n",
    "            temp.shape = (m, 1)\n",
    "            errors_x1 = (predictions - y) * temp\n",
    "            theta[n][0] = theta[n][0] - alpha * (1.0 / m) * errors_x1.sum()\n",
    "\n",
    "        cost_past_val[i, 0], train_errors = compute_cost(X, y, theta)\n",
    "    print('train error: ', train_errors)\n",
    "    return theta, cost_past_val, train_errors\n"
   ]
  },
  {
   "cell_type": "code",
   "execution_count": 54,
   "metadata": {},
   "outputs": [
    {
     "name": "stderr",
     "output_type": "stream",
     "text": [
      "C:\\Users\\sudha\\Anaconda2\\lib\\site-packages\\ipykernel_launcher.py:8: FutureWarning: reshape is deprecated and will raise in a subsequent release. Please use .values.reshape(...) instead\n",
      "  \n"
     ]
    },
    {
     "name": "stdout",
     "output_type": "stream",
     "text": [
      "('train error: ', 199.13446730440387)\n"
     ]
    }
   ],
   "source": [
    "from numpy import zeros\n",
    "import numpy as np \n",
    "\n",
    "\n",
    "#Initialize theta parameters\n",
    "\n",
    "X = np.c_[np.ones(X.shape[0]),X] \n",
    "y = y.reshape(y.shape[0] , 1)\n",
    "theta = zeros(shape=(X.shape[1], 1))\n",
    "\n",
    "alpha = 0.0001 #Step size\n",
    "iterations = 1000#No. of iterations\n",
    "m = y.size #No. of data points\n",
    "np.random.seed(42) #Set the seed\n",
    "\n",
    "slope , cost_history, train_err = gradient_descent(X, y, theta, alpha, iterations)"
   ]
  },
  {
   "cell_type": "markdown",
   "metadata": {},
   "source": [
    "# Comparing the performance of different error functions "
   ]
  },
  {
   "cell_type": "code",
   "execution_count": null,
   "metadata": {},
   "outputs": [],
   "source": [
    "Mean square error, Mean Absolute error, Mean absolute percentage error"
   ]
  },
  {
   "cell_type": "code",
   "execution_count": 71,
   "metadata": {
    "collapsed": true
   },
   "outputs": [],
   "source": [
    "from sklearn.metrics import mean_squared_error, mean_absolute_error "
   ]
  },
  {
   "cell_type": "code",
   "execution_count": 69,
   "metadata": {},
   "outputs": [
    {
     "data": {
      "text/plain": [
       "213.72077214585227"
      ]
     },
     "execution_count": 69,
     "metadata": {},
     "output_type": "execute_result"
    }
   ],
   "source": [
    "def predictions( model , scaler , X_test):\n",
    "    intercept = slope[0]\n",
    "    X_test[['Humidity', 'Win_Speed', 'Wind_Bearing','Visibility', 'Pressure']] = scaler.inverse_transform(X_test[['Humidity', 'Win_Speed', 'Wind_Bearing','Visibility', 'Pressure']])\n",
    "    return np.dot(X_test, slope[1:]) + intercept\n",
    "pred = predictions(slope , scaler , X_test)\n",
    "mean_squared_error(y_test , pred)"
   ]
  },
  {
   "cell_type": "code",
   "execution_count": 72,
   "metadata": {},
   "outputs": [
    {
     "data": {
      "text/plain": [
       "12.043029522368583"
      ]
     },
     "execution_count": 72,
     "metadata": {},
     "output_type": "execute_result"
    }
   ],
   "source": [
    "mean_absolute_error(y_test , pred)"
   ]
  },
  {
   "cell_type": "code",
   "execution_count": 74,
   "metadata": {},
   "outputs": [
    {
     "name": "stderr",
     "output_type": "stream",
     "text": [
      "C:\\Users\\sudha\\Anaconda2\\lib\\site-packages\\ipykernel_launcher.py:5: RuntimeWarning: divide by zero encountered in divide\n",
      "  \"\"\"\n"
     ]
    },
    {
     "data": {
      "text/plain": [
       "inf"
      ]
     },
     "execution_count": 74,
     "metadata": {},
     "output_type": "execute_result"
    }
   ],
   "source": [
    "import numpy as np\n",
    "\n",
    "def mean_absolute_percentage_error(y_true, y_pred): \n",
    "    y_true, y_pred = np.array(y_true), np.array(y_pred)\n",
    "    return np.mean(np.abs((y_true - y_pred) / y_true)) * 100\n",
    "\n",
    "mean_absolute_percentage_error(y_test , pred)\n"
   ]
  },
  {
   "cell_type": "code",
   "execution_count": 80,
   "metadata": {},
   "outputs": [
    {
     "data": {
      "text/plain": [
       "69"
      ]
     },
     "execution_count": 80,
     "metadata": {},
     "output_type": "execute_result"
    }
   ],
   "source": [
    "len(y_test[y_test==0])"
   ]
  },
  {
   "cell_type": "markdown",
   "metadata": {},
   "source": [
    "I found that there are 69 values in target that are equal to Zero This causes the MAPE value to become inf. \n",
    "Mape may not be a good metric in this case, as it has a disadvantage when actual values contain zero values\n",
    "While, MAE treats the error deviations in either directions the same way, \n",
    "I observed that the error in MSE punishes large error more because it squares all the errors. Hence, we have larger MSE than MAE \n",
    "\n"
   ]
  },
  {
   "cell_type": "markdown",
   "metadata": {},
   "source": [
    "# Behaviour of regression coefficients "
   ]
  },
  {
   "cell_type": "code",
   "execution_count": 84,
   "metadata": {},
   "outputs": [
    {
     "name": "stdout",
     "output_type": "stream",
     "text": [
      "('train error: ', 186.20194677032538)\n",
      "('train error: ', 74.64740956709915)\n",
      "('train error: ', 50.351689875188875)\n"
     ]
    }
   ],
   "source": [
    "def run_experiments(X , y,  alpha , iterations , seed = 42):\n",
    "    \n",
    "    theta = np.random.rand(X.shape[1], 1)\n",
    "    slope , cost ,tr_err = gradient_descent(X, y, theta, alpha, iterations)\n",
    "    return slope, cost\n",
    "\n",
    "# test 1 \n",
    "theta1 , costs1  = run_experiments(X , y , 0.001 ,100, seed = 100 )\n",
    "# test 2 \n",
    "theta2 , costs2  = run_experiments(X , y , 0.001 ,1000, seed = 200 )\n",
    "# test 3 \n",
    "theta3 , costs3  = run_experiments(X , y , 0.001 ,5000, seed = 300 ) "
   ]
  },
  {
   "cell_type": "code",
   "execution_count": 85,
   "metadata": {},
   "outputs": [
    {
     "name": "stderr",
     "output_type": "stream",
     "text": [
      "C:\\Users\\sudha\\Anaconda2\\lib\\site-packages\\matplotlib\\cbook.py:136: MatplotlibDeprecationWarning: The set_color_cycle attribute was deprecated in version 1.5. Use set_prop_cycle instead.\n",
      "  warnings.warn(message, mplDeprecation, stacklevel=1)\n"
     ]
    },
    {
     "data": {
      "image/png": "[encoded data removed]",
      "text/plain": [
       "<matplotlib.figure.Figure at 0xcff57f0>"
      ]
     },
     "metadata": {},
     "output_type": "display_data"
    }
   ],
   "source": [
    "plt.gca().set_color_cycle(['black', 'green' , 'yellow'])\n",
    "\n",
    "plt.title('Cost Function')\n",
    "plt.xlabel('No. of iterations')\n",
    "plt.ylabel('Cost')\n",
    "plt.plot(np.arange(100) ,costs1 ,  label = '500')\n",
    "plt.plot(np.arange(1000),costs2 ,   label = '1000')\n",
    "plt.plot(np.arange(5000),costs3 ,   label = '2000')\n",
    "plt.show()\n",
    " "
   ]
  },
  {
   "cell_type": "code",
   "execution_count": 86,
   "metadata": {},
   "outputs": [
    {
     "name": "stdout",
     "output_type": "stream",
     "text": [
      "('train error: ', 73.59148955930911)\n",
      "('train error: ', 53.68184866370157)\n",
      "('train error: ', 116.7420305743412)\n"
     ]
    }
   ],
   "source": [
    "# different learning parameters with fixed regression coefficients\n",
    "# test 1 \n",
    "theta1_b , costs1_b  = run_experiments(X , y , 0.01 ,100, seed = 42 )\n",
    "# test 2 \n",
    "theta2_b , costs2_b  = run_experiments(X , y , 0.001 ,2000, seed = 42 )\n",
    "# test 3 \n",
    "theta3_b , costs3_b  = run_experiments(X , y , 0.0001 ,5000, seed = 42 ) "
   ]
  },
  {
   "cell_type": "code",
   "execution_count": 87,
   "metadata": {},
   "outputs": [
    {
     "data": {
      "image/png": "[encoded data removed]",
      "text/plain": [
       "<matplotlib.figure.Figure at 0x95c47b8>"
      ]
     },
     "metadata": {},
     "output_type": "display_data"
    }
   ],
   "source": [
    "plt.gca().set_color_cycle(['black', 'blue' , 'green'])\n",
    "\n",
    "plt.title('Cost Function J')\n",
    "plt.xlabel('No. of iterations')\n",
    "plt.ylabel('Cost')\n",
    "plt.plot(np.arange(100) ,costs1_b ,  label = '500')\n",
    "plt.plot(np.arange(2000),costs2_b ,   label = '1000')\n",
    "plt.plot(np.arange(5000),costs3_b ,   label = '2000')\n",
    "plt.show()\n"
   ]
  },
  {
   "cell_type": "code",
   "execution_count": 104,
   "metadata": {},
   "outputs": [],
   "source": [
    "#scaler\n",
    "import pickle\n",
    "\n",
    "with open('scaler.obj', 'wb') as f:\n",
    "    pickle.dump(scaler, f)"
   ]
  },
  {
   "cell_type": "code",
   "execution_count": 88,
   "metadata": {},
   "outputs": [
    {
     "data": {
      "text/plain": [
       "array([[ 1.13530917],\n",
       "       [ 0.        ],\n",
       "       [-0.56901267],\n",
       "       [-0.002306  ],\n",
       "       [ 0.02532127],\n",
       "       [ 0.34745948],\n",
       "       [-0.00838819]])"
      ]
     },
     "execution_count": 88,
     "metadata": {},
     "output_type": "execute_result"
    }
   ],
   "source": [
    "theta"
   ]
  },
  {
   "cell_type": "code",
   "execution_count": 105,
   "metadata": {},
   "outputs": [
    {
     "data": {
      "text/plain": [
       "Index([u'Humidity', u'Win_Speed', u'Wind_Bearing', u'Visibility', u'Pressure'], dtype='object')"
      ]
     },
     "execution_count": 105,
     "metadata": {},
     "output_type": "execute_result"
    }
   ],
   "source": [
    "num_cols"
   ]
  },
  {
   "cell_type": "code",
   "execution_count": null,
   "metadata": {
    "collapsed": true
   },
   "outputs": [],
   "source": []
  },
  {
   "cell_type": "code",
   "execution_count": null,
   "metadata": {
    "collapsed": true
   },
   "outputs": [],
   "source": [
    "the above cell shows intercept and regression coefficients in an array. \n",
    "The maginitude of theta in above cell is a measure of how much does the value impact the target variable\n",
    "The sign represents the direction in which it impacts the target variable. \n",
    "The target variable is impacted by summation of all coefficients in the form of simple line equation. "
   ]
  }
 ],
 "metadata": {
  "kernelspec": {
   "display_name": "Python 2",
   "language": "python",
   "name": "python2"
  },
  "language_info": {
   "codemirror_mode": {
    "name": "ipython",
    "version": 2
   },
   "file_extension": ".py",
   "mimetype": "text/x-python",
   "name": "python",
   "nbconvert_exporter": "python",
   "pygments_lexer": "ipython2",
   "version": "2.7.13"
  }
 },
 "nbformat": 4,
 "nbformat_minor": 2
}
